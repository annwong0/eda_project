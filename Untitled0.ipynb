{
 "cells": [
  {
   "cell_type": "code",
   "execution_count": 2,
   "metadata": {},
   "outputs": [
    {
     "name": "stdout",
     "output_type": "stream",
     "text": [
      "Collecting pandas\n",
      "  Using cached pandas-2.3.1-cp313-cp313-macosx_11_0_arm64.whl.metadata (91 kB)\n",
      "Collecting numpy>=1.26.0 (from pandas)\n",
      "  Downloading numpy-2.3.2-cp313-cp313-macosx_11_0_arm64.whl.metadata (62 kB)\n",
      "Requirement already satisfied: python-dateutil>=2.8.2 in ./.venv/lib/python3.13/site-packages (from pandas) (2.9.0.post0)\n",
      "Collecting pytz>=2020.1 (from pandas)\n",
      "  Using cached pytz-2025.2-py2.py3-none-any.whl.metadata (22 kB)\n",
      "Collecting tzdata>=2022.7 (from pandas)\n",
      "  Using cached tzdata-2025.2-py2.py3-none-any.whl.metadata (1.4 kB)\n",
      "Requirement already satisfied: six>=1.5 in ./.venv/lib/python3.13/site-packages (from python-dateutil>=2.8.2->pandas) (1.17.0)\n",
      "Using cached pandas-2.3.1-cp313-cp313-macosx_11_0_arm64.whl (10.7 MB)\n",
      "Downloading numpy-2.3.2-cp313-cp313-macosx_11_0_arm64.whl (14.2 MB)\n",
      "\u001b[2K   \u001b[90m━━━━━━━━━━━━━━━━━━━━━━━━━━━━━━━━━━━━━━━━\u001b[0m \u001b[32m14.2/14.2 MB\u001b[0m \u001b[31m5.9 MB/s\u001b[0m eta \u001b[36m0:00:00\u001b[0ma \u001b[36m0:00:01\u001b[0m\n",
      "\u001b[?25hUsing cached pytz-2025.2-py2.py3-none-any.whl (509 kB)\n",
      "Using cached tzdata-2025.2-py2.py3-none-any.whl (347 kB)\n",
      "Installing collected packages: pytz, tzdata, numpy, pandas\n",
      "\u001b[2K   \u001b[90m━━━━━━━━━━━━━━━━━━━━━━━━━━━━━━━━━━━━━━━━\u001b[0m \u001b[32m4/4\u001b[0m [pandas]2m3/4\u001b[0m [pandas]\n",
      "\u001b[1A\u001b[2KSuccessfully installed numpy-2.3.2 pandas-2.3.1 pytz-2025.2 tzdata-2025.2\n",
      "Note: you may need to restart the kernel to use updated packages.\n"
     ]
    }
   ],
   "source": [
    "%pip install pandas"
   ]
  },
  {
   "cell_type": "code",
   "execution_count": 2,
   "metadata": {
    "executionInfo": {
     "elapsed": 19,
     "status": "ok",
     "timestamp": 1753494855912,
     "user": {
      "displayName": "Pui Yee Wong",
      "userId": "03499534003245360883"
     },
     "user_tz": -480
    },
    "id": "vjYXmKsBYyQM"
   },
   "outputs": [],
   "source": [
    "# import libraries\n",
    "import pandas as pd\n",
    "from pandas import DataFrame\n",
    "import seaborn as sns\n",
    "import matplotlib.pyplot as plt\n",
    "import ssl\n",
    "ssl._create_default_https_context = ssl._create_unverified_context"
   ]
  },
  {
   "cell_type": "code",
   "execution_count": 3,
   "metadata": {},
   "outputs": [],
   "source": [
    "\n",
    "# EDA: check the correlation of \"Primary streaming service\" (i.e. music channel) and \"Music effects\" (i.e. mental health status)\n",
    "# if the correlation is weak, will drop the column\n",
    "def musicChannel(df):\n",
    "    \n",
    "    df['Primary streaming service']=df['Primary streaming service'].astype('category').cat.codes\n",
    "    df['Music effects']=df['Music effects'].astype('category').cat.codes\n",
    "    correlation_matrix = df[['Primary streaming service', 'Music effects']].corr()\n",
    "    print (correlation_matrix)\n",
    "    \n",
    "    ax = plt.axes()\n",
    "    sns.heatmap(correlation_matrix, annot=True, ax=ax)\n",
    "    ax.set_title('Correlation between Music Channel and Mental Effect')\n",
    "    # plt.matshow(correlation_matrix)\n",
    "    plt.show()\n",
    "\n",
    "    df = df.drop('Primary streaming service', axis=1)\n",
    "    return df\n",
    "    "
   ]
  },
  {
   "cell_type": "code",
   "execution_count": null,
   "metadata": {
    "colab": {
     "base_uri": "https://localhost:8080/",
     "height": 365
    },
    "executionInfo": {
     "elapsed": 18848,
     "status": "error",
     "timestamp": 1753494957893,
     "user": {
      "displayName": "Pui Yee Wong",
      "userId": "03499534003245360883"
     },
     "user_tz": -480
    },
    "id": "vx4um84BXSmA",
    "outputId": "79dbdb93-7901-46e6-9e09-558484727587"
   },
   "outputs": [
    {
     "name": "stdout",
     "output_type": "stream",
     "text": [
      "<class 'pandas.core.frame.DataFrame'>\n",
      "RangeIndex: 736 entries, 0 to 735\n",
      "Data columns (total 33 columns):\n",
      " #   Column                        Non-Null Count  Dtype  \n",
      "---  ------                        --------------  -----  \n",
      " 0   Timestamp                     736 non-null    object \n",
      " 1   Age                           735 non-null    float64\n",
      " 2   Primary streaming service     735 non-null    object \n",
      " 3   Hours per day                 736 non-null    float64\n",
      " 4   While working                 733 non-null    object \n",
      " 5   Instrumentalist               732 non-null    object \n",
      " 6   Composer                      735 non-null    object \n",
      " 7   Fav genre                     736 non-null    object \n",
      " 8   Exploratory                   736 non-null    object \n",
      " 9   Foreign languages             732 non-null    object \n",
      " 10  BPM                           629 non-null    float64\n",
      " 11  Frequency [Classical]         736 non-null    object \n",
      " 12  Frequency [Country]           736 non-null    object \n",
      " 13  Frequency [EDM]               736 non-null    object \n",
      " 14  Frequency [Folk]              736 non-null    object \n",
      " 15  Frequency [Gospel]            736 non-null    object \n",
      " 16  Frequency [Hip hop]           736 non-null    object \n",
      " 17  Frequency [Jazz]              736 non-null    object \n",
      " 18  Frequency [K pop]             736 non-null    object \n",
      " 19  Frequency [Latin]             736 non-null    object \n",
      " 20  Frequency [Lofi]              736 non-null    object \n",
      " 21  Frequency [Metal]             736 non-null    object \n",
      " 22  Frequency [Pop]               736 non-null    object \n",
      " 23  Frequency [R&B]               736 non-null    object \n",
      " 24  Frequency [Rap]               736 non-null    object \n",
      " 25  Frequency [Rock]              736 non-null    object \n",
      " 26  Frequency [Video game music]  736 non-null    object \n",
      " 27  Anxiety                       736 non-null    float64\n",
      " 28  Depression                    736 non-null    float64\n",
      " 29  Insomnia                      736 non-null    float64\n",
      " 30  OCD                           736 non-null    float64\n",
      " 31  Music effects                 728 non-null    object \n",
      " 32  Permissions                   736 non-null    object \n",
      "dtypes: float64(7), object(26)\n",
      "memory usage: 189.9+ KB\n",
      "                           Primary streaming service  Music effects\n",
      "Primary streaming service                   1.000000      -0.027068\n",
      "Music effects                              -0.027068       1.000000\n"
     ]
    },
    {
     "data": {
      "image/png": "[encoded data removed]",
      "text/plain": [
       "<Figure size 640x480 with 2 Axes>"
      ]
     },
     "metadata": {},
     "output_type": "display_data"
    },
    {
     "data": {
      "application/vnd.microsoft.datawrangler.viewer.v0+json": {
       "columns": [
        {
         "name": "index",
         "rawType": "int64",
         "type": "integer"
        },
        {
         "name": "Timestamp",
         "rawType": "object",
         "type": "string"
        },
        {
         "name": "Age",
         "rawType": "float64",
         "type": "float"
        },
        {
         "name": "Hours per day",
         "rawType": "float64",
         "type": "float"
        },
        {
         "name": "While working",
         "rawType": "object",
         "type": "string"
        },
        {
         "name": "Instrumentalist",
         "rawType": "object",
         "type": "string"
        },
        {
         "name": "Composer",
         "rawType": "object",
         "type": "string"
        },
        {
         "name": "Fav genre",
         "rawType": "object",
         "type": "string"
        },
        {
         "name": "Exploratory",
         "rawType": "object",
         "type": "string"
        },
        {
         "name": "Foreign languages",
         "rawType": "object",
         "type": "string"
        },
        {
         "name": "BPM",
         "rawType": "float64",
         "type": "float"
        },
        {
         "name": "Frequency [Classical]",
         "rawType": "object",
         "type": "string"
        },
        {
         "name": "Frequency [Country]",
         "rawType": "object",
         "type": "string"
        },
        {
         "name": "Frequency [EDM]",
         "rawType": "object",
         "type": "string"
        },
        {
         "name": "Frequency [Folk]",
         "rawType": "object",
         "type": "string"
        },
        {
         "name": "Frequency [Gospel]",
         "rawType": "object",
         "type": "string"
        },
        {
         "name": "Frequency [Hip hop]",
         "rawType": "object",
         "type": "string"
        },
        {
         "name": "Frequency [Jazz]",
         "rawType": "object",
         "type": "string"
        },
        {
         "name": "Frequency [K pop]",
         "rawType": "object",
         "type": "string"
        },
        {
         "name": "Frequency [Latin]",
         "rawType": "object",
         "type": "string"
        },
        {
         "name": "Frequency [Lofi]",
         "rawType": "object",
         "type": "string"
        },
        {
         "name": "Frequency [Metal]",
         "rawType": "object",
         "type": "string"
        },
        {
         "name": "Frequency [Pop]",
         "rawType": "object",
         "type": "string"
        },
        {
         "name": "Frequency [R&B]",
         "rawType": "object",
         "type": "string"
        },
        {
         "name": "Frequency [Rap]",
         "rawType": "object",
         "type": "string"
        },
        {
         "name": "Frequency [Rock]",
         "rawType": "object",
         "type": "string"
        },
        {
         "name": "Frequency [Video game music]",
         "rawType": "object",
         "type": "string"
        },
        {
         "name": "Anxiety",
         "rawType": "float64",
         "type": "float"
        },
        {
         "name": "Depression",
         "rawType": "float64",
         "type": "float"
        },
        {
         "name": "Insomnia",
         "rawType": "float64",
         "type": "float"
        },
        {
         "name": "OCD",
         "rawType": "float64",
         "type": "float"
        },
        {
         "name": "Music effects",
         "rawType": "int8",
         "type": "integer"
        },
        {
         "name": "Permissions",
         "rawType": "object",
         "type": "string"
        }
       ],
       "ref": "debd145e-df1b-49a8-8e85-dd65a00db4f5",
       "rows": [
        [
         "0",
         "8/27/2022 19:29:02",
         "18.0",
         "3.0",
         "Yes",
         "Yes",
         "Yes",
         "Latin",
         "Yes",
         "Yes",
         "156.0",
         "Rarely",
         "Never",
         "Rarely",
         "Never",
         "Never",
         "Sometimes",
         "Never",
         "Very frequently",
         "Very frequently",
         "Rarely",
         "Never",
         "Very frequently",
         "Sometimes",
         "Very frequently",
         "Never",
         "Sometimes",
         "3.0",
         "0.0",
         "1.0",
         "0.0",
         "-1",
         "I understand."
        ],
        [
         "1",
         "8/27/2022 19:57:31",
         "63.0",
         "1.5",
         "Yes",
         "No",
         "No",
         "Rock",
         "Yes",
         "No",
         "119.0",
         "Sometimes",
         "Never",
         "Never",
         "Rarely",
         "Sometimes",
         "Rarely",
         "Very frequently",
         "Rarely",
         "Sometimes",
         "Rarely",
         "Never",
         "Sometimes",
         "Sometimes",
         "Rarely",
         "Very frequently",
         "Rarely",
         "7.0",
         "2.0",
         "2.0",
         "1.0",
         "-1",
         "I understand."
        ],
        [
         "2",
         "8/27/2022 21:28:18",
         "18.0",
         "4.0",
         "No",
         "No",
         "No",
         "Video game music",
         "No",
         "Yes",
         "132.0",
         "Never",
         "Never",
         "Very frequently",
         "Never",
         "Never",
         "Rarely",
         "Rarely",
         "Very frequently",
         "Never",
         "Sometimes",
         "Sometimes",
         "Rarely",
         "Never",
         "Rarely",
         "Rarely",
         "Very frequently",
         "7.0",
         "7.0",
         "10.0",
         "2.0",
         "1",
         "I understand."
        ],
        [
         "3",
         "8/27/2022 21:40:40",
         "61.0",
         "2.5",
         "Yes",
         "No",
         "Yes",
         "Jazz",
         "Yes",
         "Yes",
         "84.0",
         "Sometimes",
         "Never",
         "Never",
         "Rarely",
         "Sometimes",
         "Never",
         "Very frequently",
         "Sometimes",
         "Very frequently",
         "Sometimes",
         "Never",
         "Sometimes",
         "Sometimes",
         "Never",
         "Never",
         "Never",
         "9.0",
         "7.0",
         "3.0",
         "3.0",
         "0",
         "I understand."
        ],
        [
         "4",
         "8/27/2022 21:54:47",
         "18.0",
         "4.0",
         "Yes",
         "No",
         "No",
         "R&B",
         "Yes",
         "No",
         "107.0",
         "Never",
         "Never",
         "Rarely",
         "Never",
         "Rarely",
         "Very frequently",
         "Never",
         "Very frequently",
         "Sometimes",
         "Sometimes",
         "Never",
         "Sometimes",
         "Very frequently",
         "Very frequently",
         "Never",
         "Rarely",
         "7.0",
         "2.0",
         "5.0",
         "9.0",
         "0",
         "I understand."
        ]
       ],
       "shape": {
        "columns": 32,
        "rows": 5
       }
      },
      "text/html": [
       "<div>\n",
       "<style scoped>\n",
       "    .dataframe tbody tr th:only-of-type {\n",
       "        vertical-align: middle;\n",
       "    }\n",
       "\n",
       "    .dataframe tbody tr th {\n",
       "        vertical-align: top;\n",
       "    }\n",
       "\n",
       "    .dataframe thead th {\n",
       "        text-align: right;\n",
       "    }\n",
       "</style>\n",
       "<table border=\"1\" class=\"dataframe\">\n",
       "  <thead>\n",
       "    <tr style=\"text-align: right;\">\n",
       "      <th></th>\n",
       "      <th>Timestamp</th>\n",
       "      <th>Age</th>\n",
       "      <th>Hours per day</th>\n",
       "      <th>While working</th>\n",
       "      <th>Instrumentalist</th>\n",
       "      <th>Composer</th>\n",
       "      <th>Fav genre</th>\n",
       "      <th>Exploratory</th>\n",
       "      <th>Foreign languages</th>\n",
       "      <th>BPM</th>\n",
       "      <th>...</th>\n",
       "      <th>Frequency [R&amp;B]</th>\n",
       "      <th>Frequency [Rap]</th>\n",
       "      <th>Frequency [Rock]</th>\n",
       "      <th>Frequency [Video game music]</th>\n",
       "      <th>Anxiety</th>\n",
       "      <th>Depression</th>\n",
       "      <th>Insomnia</th>\n",
       "      <th>OCD</th>\n",
       "      <th>Music effects</th>\n",
       "      <th>Permissions</th>\n",
       "    </tr>\n",
       "  </thead>\n",
       "  <tbody>\n",
       "    <tr>\n",
       "      <th>0</th>\n",
       "      <td>8/27/2022 19:29:02</td>\n",
       "      <td>18.0</td>\n",
       "      <td>3.0</td>\n",
       "      <td>Yes</td>\n",
       "      <td>Yes</td>\n",
       "      <td>Yes</td>\n",
       "      <td>Latin</td>\n",
       "      <td>Yes</td>\n",
       "      <td>Yes</td>\n",
       "      <td>156.0</td>\n",
       "      <td>...</td>\n",
       "      <td>Sometimes</td>\n",
       "      <td>Very frequently</td>\n",
       "      <td>Never</td>\n",
       "      <td>Sometimes</td>\n",
       "      <td>3.0</td>\n",
       "      <td>0.0</td>\n",
       "      <td>1.0</td>\n",
       "      <td>0.0</td>\n",
       "      <td>-1</td>\n",
       "      <td>I understand.</td>\n",
       "    </tr>\n",
       "    <tr>\n",
       "      <th>1</th>\n",
       "      <td>8/27/2022 19:57:31</td>\n",
       "      <td>63.0</td>\n",
       "      <td>1.5</td>\n",
       "      <td>Yes</td>\n",
       "      <td>No</td>\n",
       "      <td>No</td>\n",
       "      <td>Rock</td>\n",
       "      <td>Yes</td>\n",
       "      <td>No</td>\n",
       "      <td>119.0</td>\n",
       "      <td>...</td>\n",
       "      <td>Sometimes</td>\n",
       "      <td>Rarely</td>\n",
       "      <td>Very frequently</td>\n",
       "      <td>Rarely</td>\n",
       "      <td>7.0</td>\n",
       "      <td>2.0</td>\n",
       "      <td>2.0</td>\n",
       "      <td>1.0</td>\n",
       "      <td>-1</td>\n",
       "      <td>I understand.</td>\n",
       "    </tr>\n",
       "    <tr>\n",
       "      <th>2</th>\n",
       "      <td>8/27/2022 21:28:18</td>\n",
       "      <td>18.0</td>\n",
       "      <td>4.0</td>\n",
       "      <td>No</td>\n",
       "      <td>No</td>\n",
       "      <td>No</td>\n",
       "      <td>Video game music</td>\n",
       "      <td>No</td>\n",
       "      <td>Yes</td>\n",
       "      <td>132.0</td>\n",
       "      <td>...</td>\n",
       "      <td>Never</td>\n",
       "      <td>Rarely</td>\n",
       "      <td>Rarely</td>\n",
       "      <td>Very frequently</td>\n",
       "      <td>7.0</td>\n",
       "      <td>7.0</td>\n",
       "      <td>10.0</td>\n",
       "      <td>2.0</td>\n",
       "      <td>1</td>\n",
       "      <td>I understand.</td>\n",
       "    </tr>\n",
       "    <tr>\n",
       "      <th>3</th>\n",
       "      <td>8/27/2022 21:40:40</td>\n",
       "      <td>61.0</td>\n",
       "      <td>2.5</td>\n",
       "      <td>Yes</td>\n",
       "      <td>No</td>\n",
       "      <td>Yes</td>\n",
       "      <td>Jazz</td>\n",
       "      <td>Yes</td>\n",
       "      <td>Yes</td>\n",
       "      <td>84.0</td>\n",
       "      <td>...</td>\n",
       "      <td>Sometimes</td>\n",
       "      <td>Never</td>\n",
       "      <td>Never</td>\n",
       "      <td>Never</td>\n",
       "      <td>9.0</td>\n",
       "      <td>7.0</td>\n",
       "      <td>3.0</td>\n",
       "      <td>3.0</td>\n",
       "      <td>0</td>\n",
       "      <td>I understand.</td>\n",
       "    </tr>\n",
       "    <tr>\n",
       "      <th>4</th>\n",
       "      <td>8/27/2022 21:54:47</td>\n",
       "      <td>18.0</td>\n",
       "      <td>4.0</td>\n",
       "      <td>Yes</td>\n",
       "      <td>No</td>\n",
       "      <td>No</td>\n",
       "      <td>R&amp;B</td>\n",
       "      <td>Yes</td>\n",
       "      <td>No</td>\n",
       "      <td>107.0</td>\n",
       "      <td>...</td>\n",
       "      <td>Very frequently</td>\n",
       "      <td>Very frequently</td>\n",
       "      <td>Never</td>\n",
       "      <td>Rarely</td>\n",
       "      <td>7.0</td>\n",
       "      <td>2.0</td>\n",
       "      <td>5.0</td>\n",
       "      <td>9.0</td>\n",
       "      <td>0</td>\n",
       "      <td>I understand.</td>\n",
       "    </tr>\n",
       "  </tbody>\n",
       "</table>\n",
       "<p>5 rows × 32 columns</p>\n",
       "</div>"
      ],
      "text/plain": [
       "            Timestamp   Age  Hours per day While working Instrumentalist  \\\n",
       "0  8/27/2022 19:29:02  18.0            3.0           Yes             Yes   \n",
       "1  8/27/2022 19:57:31  63.0            1.5           Yes              No   \n",
       "2  8/27/2022 21:28:18  18.0            4.0            No              No   \n",
       "3  8/27/2022 21:40:40  61.0            2.5           Yes              No   \n",
       "4  8/27/2022 21:54:47  18.0            4.0           Yes              No   \n",
       "\n",
       "  Composer         Fav genre Exploratory Foreign languages    BPM  ...  \\\n",
       "0      Yes             Latin         Yes               Yes  156.0  ...   \n",
       "1       No              Rock         Yes                No  119.0  ...   \n",
       "2       No  Video game music          No               Yes  132.0  ...   \n",
       "3      Yes              Jazz         Yes               Yes   84.0  ...   \n",
       "4       No               R&B         Yes                No  107.0  ...   \n",
       "\n",
       "   Frequency [R&B]  Frequency [Rap] Frequency [Rock]  \\\n",
       "0        Sometimes  Very frequently            Never   \n",
       "1        Sometimes           Rarely  Very frequently   \n",
       "2            Never           Rarely           Rarely   \n",
       "3        Sometimes            Never            Never   \n",
       "4  Very frequently  Very frequently            Never   \n",
       "\n",
       "  Frequency [Video game music] Anxiety Depression Insomnia  OCD Music effects  \\\n",
       "0                    Sometimes     3.0        0.0      1.0  0.0            -1   \n",
       "1                       Rarely     7.0        2.0      2.0  1.0            -1   \n",
       "2              Very frequently     7.0        7.0     10.0  2.0             1   \n",
       "3                        Never     9.0        7.0      3.0  3.0             0   \n",
       "4                       Rarely     7.0        2.0      5.0  9.0             0   \n",
       "\n",
       "     Permissions  \n",
       "0  I understand.  \n",
       "1  I understand.  \n",
       "2  I understand.  \n",
       "3  I understand.  \n",
       "4  I understand.  \n",
       "\n",
       "[5 rows x 32 columns]"
      ]
     },
     "execution_count": 4,
     "metadata": {},
     "output_type": "execute_result"
    }
   ],
   "source": [
    "df = pd.read_csv('./dataset/mxmh_survey_results.csv')\n",
    "\n",
    "df.info()\n",
    "\n",
    "df=musicChannel(df)\n",
    "\n",
    "# df.head()"
   ]
  }
 ],
 "metadata": {
  "colab": {
   "authorship_tag": "ABX9TyNiY6j0nanrGu8tAEN/OIDR",
   "provenance": []
  },
  "kernelspec": {
   "display_name": "Python 3",
   "language": "python",
   "name": "python3"
  },
  "language_info": {
   "codemirror_mode": {
    "name": "ipython",
    "version": 3
   },
   "file_extension": ".py",
   "mimetype": "text/x-python",
   "name": "python",
   "nbconvert_exporter": "python",
   "pygments_lexer": "ipython3",
   "version": "3.11.9"
  }
 },
 "nbformat": 4,
 "nbformat_minor": 0
}
